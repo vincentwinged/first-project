{
 "cells": [
  {
   "cell_type": "code",
   "execution_count": null,
   "id": "465b2204",
   "metadata": {},
   "outputs": [],
   "source": [
    "info_tab = {}\n",
    "for i in range(len(data.columns)):\n",
    "    info_tab[data.columns[i]] = [\n",
    "        len(data[data.columns[i]]),\n",
    "        data[data.columns[i]].isna().sum(),\n",
    "        data[data.columns[i]].dtype]\n",
    "info_tab = pd.DataFrame(info_tab).transpose()\n",
    "info_tab.insert(2, 'test', value=0)\n",
    "info_tab.columns = ['len', 'NaNs', 'NaNs_percent', 'types']\n",
    "info_tab['NaNs_percent'] = (info_tab['NaNs'].div(info_tab['len'])).map('{:.0%}'.format)\n",
    "display(info_tab)"
   ]
  },
  {
   "cell_type": "code",
   "execution_count": null,
   "id": "7bf00ab2",
   "metadata": {},
   "outputs": [],
   "source": [
    "Q3 = data.total_area.quantile(0.75)\n",
    "Q1 = data.total_area.quantile(0.25)\n",
    "IQR = Q3 - Q1\n",
    "max_lim = Q3 + 1.5 * IQR\n",
    "min_lim = Q1 - 1.5 * IQR\n",
    "print(max_lim)\n",
    "print(min_lim)"
   ]
  },
  {
   "cell_type": "code",
   "execution_count": null,
   "id": "22f7a254",
   "metadata": {},
   "outputs": [],
   "source": [
    "studio_zero_rooms = data.query('rooms == 1')['studio'].sum() / data['studio'].sum()\n",
    "print('Доля студий среди квартир с 0 комнат:', f'{studio_zero_rooms:.0%}')\n",
    "open_plan_zero_rooms = data.query('rooms == 0')['open_plan'].sum() / data['open_plan'].sum()\n",
    "print('Доля свободных планировок среди квартир с 0 комнат:', f'{open_plan_zero_rooms:.0%}')"
   ]
  },
  {
   "cell_type": "code",
   "execution_count": null,
   "id": "61fddb1e",
   "metadata": {},
   "outputs": [],
   "source": [
    "# Срез исходного датафрейма для проверки результата\n",
    "rooms_check = data.query('rooms == 0 or studio == True or open_plan == True')[['rooms','studio','open_plan','total_area']]\n",
    "\n",
    "# Присвоим всем студиям rooms = 0\n",
    "studio_index = data[data.studio == True].index\n",
    "data.loc[studio_index, 'rooms'] = 0\n",
    "\n",
    "# Присвоим всем открытым планировкам rooms = 0\n",
    "open_plan_index = data[data.open_plan == True].index\n",
    "data.loc[open_plan_index, 'open_plan'] = 0\n",
    "\n",
    "# Series, содержащий кол-во комнат в качестве индексов и медианные площади для каждой группы.\n",
    "rooms_median_area = data.query('rooms != 0').groupby('rooms')['total_area'].median()\n",
    "\n",
    "# Цикл, который проходит по всем объектам, где 0 комнат и которые не являются студиями:\n",
    "# заменяет 0 на кол-во комнат, исходя из ближайшего значения медианной площади квартиры из rooms_median_area\n",
    "# i - индекс строки из исходного датафрейма data (кол-во комнат)\n",
    "# v - площадь квартиры из столбца total_area\n",
    "for i, v in data.query('rooms == 0 and studio == False')['total_area'].items():\n",
    "    data.loc[i, 'rooms'] = rooms_median_area.iloc[(rooms_median_area - v).abs().argsort()].index[0]\n",
    "    \n",
    "# Проверка результата. Выведем датафрейм rooms_check, добавив в него столбец с измененным количеством комнат.\n",
    "rooms_check['new_rooms'] = data.loc[rooms_check.index]['rooms']\n",
    "pd.set_option('display.max_rows', None)\n",
    "display(rooms_check)\n",
    "pd.reset_option('display.max_rows')"
   ]
  },
  {
   "cell_type": "code",
   "execution_count": null,
   "id": "4adb060d",
   "metadata": {},
   "outputs": [],
   "source": [
    "lambda lst: [x.strip() for x in lst if x != '']\n",
    "lambda lst: [x.replace(x, bad_values[x]) if x in bad_values else x for x in lst]"
   ]
  }
 ],
 "metadata": {
  "kernelspec": {
   "display_name": "Python 3 (ipykernel)",
   "language": "python",
   "name": "python3"
  },
  "language_info": {
   "codemirror_mode": {
    "name": "ipython",
    "version": 3
   },
   "file_extension": ".py",
   "mimetype": "text/x-python",
   "name": "python",
   "nbconvert_exporter": "python",
   "pygments_lexer": "ipython3",
   "version": "3.9.12"
  }
 },
 "nbformat": 4,
 "nbformat_minor": 5
}
